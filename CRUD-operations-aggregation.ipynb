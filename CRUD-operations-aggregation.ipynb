{
 "cells": [
  {
   "cell_type": "code",
   "execution_count": 56,
   "metadata": {},
   "outputs": [],
   "source": [
    "import os\n",
    "import pymongo\n",
    "import pprint\n",
    "from dotenv import load_dotenv\n",
    "from bson.objectid import ObjectId"
   ]
  },
  {
   "cell_type": "code",
   "execution_count": 28,
   "metadata": {},
   "outputs": [
    {
     "data": {
      "text/plain": [
       "True"
      ]
     },
     "execution_count": 28,
     "metadata": {},
     "output_type": "execute_result"
    }
   ],
   "source": [
    "load_dotenv(\".env\")"
   ]
  },
  {
   "cell_type": "code",
   "execution_count": 29,
   "metadata": {},
   "outputs": [],
   "source": [
    "MONGODB_URI = os.getenv(\"MONGODB_URI\")"
   ]
  },
  {
   "cell_type": "code",
   "execution_count": 30,
   "metadata": {},
   "outputs": [],
   "source": [
    "client = pymongo.MongoClient(MONGODB_URI)"
   ]
  },
  {
   "cell_type": "code",
   "execution_count": 31,
   "metadata": {},
   "outputs": [
    {
     "name": "stdout",
     "output_type": "stream",
     "text": [
      "{'name': 'sample_airbnb', 'sizeOnDisk': 55443456, 'empty': False}\n",
      "{'name': 'sample_analytics', 'sizeOnDisk': 9945088, 'empty': False}\n",
      "{'name': 'sample_geospatial', 'sizeOnDisk': 2072576, 'empty': False}\n",
      "{'name': 'sample_guides', 'sizeOnDisk': 40960, 'empty': False}\n",
      "{'name': 'sample_mflix', 'sizeOnDisk': 118710272, 'empty': False}\n",
      "{'name': 'sample_restaurants', 'sizeOnDisk': 7983104, 'empty': False}\n",
      "{'name': 'sample_supplies', 'sizeOnDisk': 1097728, 'empty': False}\n",
      "{'name': 'sample_training', 'sizeOnDisk': 54747136, 'empty': False}\n",
      "{'name': 'sample_weatherdata', 'sizeOnDisk': 2842624, 'empty': False}\n",
      "{'name': 'admin', 'sizeOnDisk': 335872, 'empty': False}\n",
      "{'name': 'local', 'sizeOnDisk': 20017610752, 'empty': False}\n"
     ]
    }
   ],
   "source": [
    "for db in client.list_databases():\n",
    "    print(db)"
   ]
  },
  {
   "cell_type": "code",
   "execution_count": 32,
   "metadata": {},
   "outputs": [],
   "source": [
    "db = client.sample_mflix"
   ]
  },
  {
   "cell_type": "code",
   "execution_count": 33,
   "metadata": {},
   "outputs": [
    {
     "data": {
      "text/plain": [
       "['movies', 'embedded_movies', 'theaters', 'comments', 'sessions', 'users']"
      ]
     },
     "execution_count": 33,
     "metadata": {},
     "output_type": "execute_result"
    }
   ],
   "source": [
    "db.list_collection_names()"
   ]
  },
  {
   "cell_type": "code",
   "execution_count": 35,
   "metadata": {},
   "outputs": [],
   "source": [
    "users_collection = db.users"
   ]
  },
  {
   "cell_type": "code",
   "execution_count": 36,
   "metadata": {},
   "outputs": [
    {
     "data": {
      "text/plain": [
       "{'_id': ObjectId('59b99db4cfa9a34dcd7885b6'),\n",
       " 'name': 'Ned Stark',\n",
       " 'email': 'sean_bean@gameofthron.es',\n",
       " 'password': '$2b$12$UREFwsRUoyF0CRqGNK0LzO0HM/jLhgUCNNIJ9RJAqMUQ74crlJ1Vu'}"
      ]
     },
     "execution_count": 36,
     "metadata": {},
     "output_type": "execute_result"
    }
   ],
   "source": [
    "users_collection.find_one()"
   ]
  },
  {
   "cell_type": "markdown",
   "metadata": {},
   "source": [
    "### Inserting documents"
   ]
  },
  {
   "cell_type": "code",
   "execution_count": 37,
   "metadata": {},
   "outputs": [],
   "source": [
    "new_user = {\n",
    "    \"name\": \"Billy Bob\",\n",
    "    \"email\": \"billy_bean@gameofthron.es\",\n",
    "    \"password\": \"1234\"\n",
    "}"
   ]
  },
  {
   "cell_type": "code",
   "execution_count": 44,
   "metadata": {},
   "outputs": [
    {
     "name": "stdout",
     "output_type": "stream",
     "text": [
      "67c4328fbe4daa83f262eb92\n"
     ]
    }
   ],
   "source": [
    "result = users_collection.insert_one(new_user)\n",
    "\n",
    "print(result.inserted_id)"
   ]
  },
  {
   "cell_type": "code",
   "execution_count": 45,
   "metadata": {},
   "outputs": [],
   "source": [
    "new_users = [\n",
    "    {\n",
    "        \"name\": \"John Doe\",\n",
    "        \"email\": \"john_doe@gameofthron.es\",\n",
    "        \"password\": \"2345\"\n",
    "    },\n",
    "    {\n",
    "        \"name\": \"Jane Doe\",\n",
    "        \"email\": \"jane_doe@gameofthron.es\",\n",
    "        \"password\": \"3456\"\n",
    "    }\n",
    "]"
   ]
  },
  {
   "cell_type": "code",
   "execution_count": 46,
   "metadata": {},
   "outputs": [
    {
     "name": "stdout",
     "output_type": "stream",
     "text": [
      "[ObjectId('67c43447be4daa83f262eb93'), ObjectId('67c43447be4daa83f262eb94')]\n"
     ]
    }
   ],
   "source": [
    "result = users_collection.insert_many(new_users)\n",
    "\n",
    "print(result.inserted_ids)"
   ]
  },
  {
   "cell_type": "markdown",
   "metadata": {},
   "source": [
    "### Querying a collection"
   ]
  },
  {
   "cell_type": "code",
   "execution_count": 48,
   "metadata": {},
   "outputs": [],
   "source": [
    "document_to_find = {\"name\": \"John Doe\"}"
   ]
  },
  {
   "cell_type": "code",
   "execution_count": 50,
   "metadata": {},
   "outputs": [
    {
     "name": "stdout",
     "output_type": "stream",
     "text": [
      "{'_id': ObjectId('67c43447be4daa83f262eb93'),\n",
      " 'email': 'john_doe@gameofthron.es',\n",
      " 'name': 'John Doe',\n",
      " 'password': '2345'}\n"
     ]
    }
   ],
   "source": [
    "result = users_collection.find_one(document_to_find)\n",
    "\n",
    "pprint.pprint(result)"
   ]
  },
  {
   "cell_type": "code",
   "execution_count": null,
   "metadata": {},
   "outputs": [],
   "source": [
    "documents_to_find = {\"name\": {\"$regex\": \" Doe\"}}"
   ]
  },
  {
   "cell_type": "code",
   "execution_count": 55,
   "metadata": {},
   "outputs": [
    {
     "name": "stdout",
     "output_type": "stream",
     "text": [
      "{'_id': ObjectId('67c43447be4daa83f262eb93'),\n",
      " 'email': 'john_doe@gameofthron.es',\n",
      " 'name': 'John Doe',\n",
      " 'password': '2345'}\n",
      "{'_id': ObjectId('67c43447be4daa83f262eb94'),\n",
      " 'email': 'jane_doe@gameofthron.es',\n",
      " 'name': 'Jane Doe',\n",
      " 'password': '3456'}\n"
     ]
    }
   ],
   "source": [
    "cursor = users_collection.find(documents_to_find)\n",
    "\n",
    "for doc in cursor:\n",
    "    pprint.pprint(doc)"
   ]
  },
  {
   "cell_type": "markdown",
   "metadata": {},
   "source": [
    "### Updating documents"
   ]
  },
  {
   "cell_type": "code",
   "execution_count": 57,
   "metadata": {},
   "outputs": [],
   "source": [
    "document_to_update = {\"_id\": ObjectId(\"67c43447be4daa83f262eb93\")}\n",
    "\n",
    "change_email = {\"$set\": {\"email\": \"john_doe@breakingb.ad\"}}"
   ]
  },
  {
   "cell_type": "code",
   "execution_count": 58,
   "metadata": {},
   "outputs": [
    {
     "name": "stdout",
     "output_type": "stream",
     "text": [
      "1\n"
     ]
    }
   ],
   "source": [
    "result = users_collection.update_one(document_to_update, change_email)\n",
    "\n",
    "print(result.modified_count)"
   ]
  },
  {
   "cell_type": "code",
   "execution_count": 59,
   "metadata": {},
   "outputs": [
    {
     "name": "stdout",
     "output_type": "stream",
     "text": [
      "{'_id': ObjectId('67c43447be4daa83f262eb93'),\n",
      " 'email': 'john_doe@breakingb.ad',\n",
      " 'name': 'John Doe',\n",
      " 'password': '2345'}\n"
     ]
    }
   ],
   "source": [
    "pprint.pprint(users_collection.find_one(document_to_update))"
   ]
  },
  {
   "cell_type": "code",
   "execution_count": 60,
   "metadata": {},
   "outputs": [],
   "source": [
    "documents_to_update = {\"email\": {\"$regex\": \"gameofthron.es\"}}\n",
    "\n",
    "change_password = {\"$set\": {\"password\": \"4321\"}}"
   ]
  },
  {
   "cell_type": "code",
   "execution_count": 61,
   "metadata": {},
   "outputs": [
    {
     "name": "stdout",
     "output_type": "stream",
     "text": [
      "85\n",
      "85\n"
     ]
    }
   ],
   "source": [
    "result = users_collection.update_many(documents_to_update, change_password)\n",
    "\n",
    "print(result.matched_count)\n",
    "print(result.modified_count)"
   ]
  },
  {
   "cell_type": "code",
   "execution_count": 62,
   "metadata": {},
   "outputs": [
    {
     "name": "stdout",
     "output_type": "stream",
     "text": [
      "{'_id': ObjectId('59b99db7cfa9a34dcd7885bd'),\n",
      " 'email': 'aidan_gillen@gameofthron.es',\n",
      " 'name': 'Petyr Baelish',\n",
      " 'password': '4321'}\n"
     ]
    }
   ],
   "source": [
    "pprint.pprint(users_collection.find_one(documents_to_update))"
   ]
  },
  {
   "cell_type": "markdown",
   "metadata": {},
   "source": [
    "### Deleting documents"
   ]
  },
  {
   "cell_type": "code",
   "execution_count": 63,
   "metadata": {},
   "outputs": [],
   "source": [
    "document_to_delete = {\"_id\": ObjectId(\"67c4328fbe4daa83f262eb92\")}"
   ]
  },
  {
   "cell_type": "code",
   "execution_count": 64,
   "metadata": {},
   "outputs": [
    {
     "name": "stdout",
     "output_type": "stream",
     "text": [
      "{'_id': ObjectId('67c4328fbe4daa83f262eb92'),\n",
      " 'email': 'billy_bean@gameofthron.es',\n",
      " 'name': 'Billy Bob',\n",
      " 'password': '4321'}\n"
     ]
    }
   ],
   "source": [
    "pprint.pprint(users_collection.find_one(document_to_delete))"
   ]
  },
  {
   "cell_type": "code",
   "execution_count": 65,
   "metadata": {},
   "outputs": [
    {
     "name": "stdout",
     "output_type": "stream",
     "text": [
      "1\n"
     ]
    }
   ],
   "source": [
    "result = users_collection.delete_one(document_to_delete)\n",
    "\n",
    "print(result.deleted_count)"
   ]
  },
  {
   "cell_type": "code",
   "execution_count": 66,
   "metadata": {},
   "outputs": [
    {
     "name": "stdout",
     "output_type": "stream",
     "text": [
      "None\n"
     ]
    }
   ],
   "source": [
    "pprint.pprint(users_collection.find_one(document_to_delete))"
   ]
  },
  {
   "cell_type": "code",
   "execution_count": 67,
   "metadata": {},
   "outputs": [],
   "source": [
    "documents_to_delete = {\"name\": {\"$regex\": \" Doe\"}}"
   ]
  },
  {
   "cell_type": "code",
   "execution_count": 68,
   "metadata": {},
   "outputs": [
    {
     "name": "stdout",
     "output_type": "stream",
     "text": [
      "{'_id': ObjectId('67c43447be4daa83f262eb93'),\n",
      " 'email': 'john_doe@breakingb.ad',\n",
      " 'name': 'John Doe',\n",
      " 'password': '2345'}\n"
     ]
    }
   ],
   "source": [
    "pprint.pprint(users_collection.find_one(documents_to_delete))"
   ]
  },
  {
   "cell_type": "code",
   "execution_count": 69,
   "metadata": {},
   "outputs": [
    {
     "name": "stdout",
     "output_type": "stream",
     "text": [
      "2\n"
     ]
    }
   ],
   "source": [
    "result = users_collection.delete_many(documents_to_delete)\n",
    "\n",
    "print(result.deleted_count)"
   ]
  },
  {
   "cell_type": "code",
   "execution_count": 70,
   "metadata": {},
   "outputs": [
    {
     "name": "stdout",
     "output_type": "stream",
     "text": [
      "None\n"
     ]
    }
   ],
   "source": [
    "pprint.pprint(users_collection.find_one(documents_to_delete))"
   ]
  },
  {
   "cell_type": "markdown",
   "metadata": {},
   "source": [
    "### Aggregation"
   ]
  },
  {
   "cell_type": "code",
   "execution_count": 73,
   "metadata": {},
   "outputs": [],
   "source": [
    "movies_collection = db.movies"
   ]
  },
  {
   "cell_type": "code",
   "execution_count": 74,
   "metadata": {},
   "outputs": [
    {
     "data": {
      "text/plain": [
       "{'_id': ObjectId('573a1390f29313caabcd42e8'),\n",
       " 'plot': 'A group of bandits stage a brazen train hold-up, only to find a determined posse hot on their heels.',\n",
       " 'genres': ['Short', 'Western'],\n",
       " 'runtime': 11,\n",
       " 'cast': ['A.C. Abadie',\n",
       "  \"Gilbert M. 'Broncho Billy' Anderson\",\n",
       "  'George Barnes',\n",
       "  'Justus D. Barnes'],\n",
       " 'poster': 'https://m.media-amazon.com/images/M/MV5BMTU3NjE5NzYtYTYyNS00MDVmLWIwYjgtMmYwYWIxZDYyNzU2XkEyXkFqcGdeQXVyNzQzNzQxNzI@._V1_SY1000_SX677_AL_.jpg',\n",
       " 'title': 'The Great Train Robbery',\n",
       " 'fullplot': \"Among the earliest existing films in American cinema - notable as the first film that presented a narrative story to tell - it depicts a group of cowboy outlaws who hold up a train and rob the passengers. They are then pursued by a Sheriff's posse. Several scenes have color included - all hand tinted.\",\n",
       " 'languages': ['English'],\n",
       " 'released': datetime.datetime(1903, 12, 1, 0, 0),\n",
       " 'directors': ['Edwin S. Porter'],\n",
       " 'rated': 'TV-G',\n",
       " 'awards': {'wins': 1, 'nominations': 0, 'text': '1 win.'},\n",
       " 'lastupdated': '2015-08-13 00:27:59.177000000',\n",
       " 'year': 1903,\n",
       " 'imdb': {'rating': 7.4, 'votes': 9847, 'id': 439},\n",
       " 'countries': ['USA'],\n",
       " 'type': 'movie',\n",
       " 'tomatoes': {'viewer': {'rating': 3.7, 'numReviews': 2559, 'meter': 75},\n",
       "  'fresh': 6,\n",
       "  'critic': {'rating': 7.6, 'numReviews': 6, 'meter': 100},\n",
       "  'rotten': 0,\n",
       "  'lastUpdated': datetime.datetime(2015, 8, 8, 19, 16, 10)},\n",
       " 'num_mflix_comments': 0}"
      ]
     },
     "execution_count": 74,
     "metadata": {},
     "output_type": "execute_result"
    }
   ],
   "source": [
    "movies_collection.find_one()"
   ]
  },
  {
   "cell_type": "code",
   "execution_count": 82,
   "metadata": {},
   "outputs": [],
   "source": [
    "select_by_rated = {\"$match\": {\"rated\": \"TV-G\"}}\n",
    "\n",
    "separate_by_type_sum_awards_wins = {\n",
    "    \"$group\": {\n",
    "        \"_id\": \"$type\",\n",
    "        \"total_wins\": {\"$sum\": \"$awards.wins\"}\n",
    "        }\n",
    "}\n",
    "\n",
    "pipeline = [select_by_rated, separate_by_type_sum_awards_wins]"
   ]
  },
  {
   "cell_type": "code",
   "execution_count": 83,
   "metadata": {},
   "outputs": [],
   "source": [
    "results = movies_collection.aggregate(pipeline)"
   ]
  },
  {
   "cell_type": "code",
   "execution_count": 84,
   "metadata": {},
   "outputs": [
    {
     "name": "stdout",
     "output_type": "stream",
     "text": [
      "{'_id': 'movie', 'total_wins': 82}\n",
      "{'_id': 'series', 'total_wins': 14}\n"
     ]
    }
   ],
   "source": [
    "for doc in results:\n",
    "    pprint.pprint(doc)"
   ]
  },
  {
   "cell_type": "code",
   "execution_count": 107,
   "metadata": {},
   "outputs": [],
   "source": [
    "select_movies = {\n",
    "    \"$match\": {\n",
    "        \"genres\": {\"$in\": [\"Comedy\", \"Drama\"]},\n",
    "        \"runtime\": {\"$lt\": 20}\n",
    "    }\n",
    "}\n",
    "\n",
    "sort_by_year = {\"$sort\": {\"year\": -1}}\n",
    "\n",
    "return_specified_fields = {\n",
    "    \"$project\": {\n",
    "        \"plot\": 1,\n",
    "        \"title\": 1,\n",
    "        \"countries\": 1,\n",
    "        \"days\": {\"$multiply\": [\"$year\", 365]},\n",
    "        \"_id\": 0\n",
    "    }\n",
    "}\n",
    "\n",
    "pipeline = [\n",
    "    select_movies,\n",
    "    sort_by_year,\n",
    "    return_specified_fields\n",
    "]"
   ]
  },
  {
   "cell_type": "code",
   "execution_count": 108,
   "metadata": {},
   "outputs": [],
   "source": [
    "results = movies_collection.aggregate(pipeline)"
   ]
  },
  {
   "cell_type": "code",
   "execution_count": 109,
   "metadata": {},
   "outputs": [
    {
     "name": "stdout",
     "output_type": "stream",
     "text": [
      "{'countries': ['UK'],\n",
      " 'days': 735475,\n",
      " 'plot': 'Glen is barely a man. In a desperate attempt to tap into his '\n",
      "         'masculinity he attends a primal scream therapy session, surrounded '\n",
      "         'by wailing men he cannot even make a sound. When another ...',\n",
      " 'title': 'Manoman'}\n",
      "{'countries': ['USA'], 'days': 735475, 'title': 'Hallway'}\n",
      "{'countries': ['France', 'Germany', 'Palestine'],\n",
      " 'days': 735475,\n",
      " 'plot': 'The silent routine of 5 Nuns living in the West Bank wilderness is '\n",
      "         'disturbed when an Israeli settler family breaks down right outside '\n",
      "         'the convent just as the Sabbath comes into effect.',\n",
      " 'title': 'Ave Maria'}\n",
      "{'countries': ['Austria', 'Japan'],\n",
      " 'days': 735475,\n",
      " 'plot': 'The dark year 2204, in a world that has seen 73 years of continuous '\n",
      "         'war. A Shaman is sent on a mission to convert the soul of a giant '\n",
      "         'battle colossus.',\n",
      " 'title': 'The Shaman'}\n",
      "{'countries': ['USA'],\n",
      " 'days': 735475,\n",
      " 'plot': 'A little girl is taken on a mind-bending tour of her distant future.',\n",
      " 'title': 'World of Tomorrow'}\n",
      "{'countries': ['UK', 'USA'],\n",
      " 'days': 735110,\n",
      " 'plot': 'James is all too eager to put his one-minute time machine to use in '\n",
      "         'winning the heart of Regina, until he discovers the unexpected '\n",
      "         'consequences of his actions.',\n",
      " 'title': 'One-Minute Time Machine'}\n",
      "{'countries': ['Canada'],\n",
      " 'days': 735110,\n",
      " 'plot': 'A dimension-traveling wizard gets stuck in the 21st century because '\n",
      "         'cell-phone radiation interferes with his magic. With his home world '\n",
      "         'on the brink of war, he seeks help from a jaded ...',\n",
      " 'title': 'The Portal'}\n",
      "{'countries': ['USA'],\n",
      " 'days': 735110,\n",
      " 'plot': 'In the tradition of classic westerns, a narrator sets up the story '\n",
      "         'of a lone gunslinger who walks into a saloon. However, the people in '\n",
      "         'this saloon can hear the narrator and the narrator may just be a '\n",
      "         'little bit bloodthirsty.',\n",
      " 'title': 'The Gunfighter'}\n",
      "{'countries': ['Denmark'],\n",
      " 'days': 735110,\n",
      " 'plot': 'Mathias is in love with Frederik, but is he ready to make his move?',\n",
      " 'title': 'An Afternoon'}\n",
      "{'countries': ['USA'],\n",
      " 'days': 735110,\n",
      " 'plot': 'Prospect is the unusual coming-of-age story of a teenage girl on a '\n",
      "         'toxic alien planet. She and her father hunt for precious materials '\n",
      "         'aiming to strike it rich. When the father is attacked by a roving '\n",
      "         'bandit, the daughter must take control.',\n",
      " 'title': 'Prospect'}\n",
      "{'countries': ['Canada'],\n",
      " 'days': 735110,\n",
      " 'plot': 'A Hollywood heartthrob returns home to rekindle an old closeted '\n",
      "         'relationship.',\n",
      " 'title': 'I Am Syd Stone'}\n",
      "{'countries': ['Canada'],\n",
      " 'days': 735110,\n",
      " 'plot': 'A disabled man yearns for intimacy in a world that would rather '\n",
      "         'ignore him.',\n",
      " 'title': 'Hole'}\n",
      "{'countries': ['USA'],\n",
      " 'days': 735110,\n",
      " 'plot': 'A dog named Winston loves eating, until his owner feeds him '\n",
      "         'vegetables.',\n",
      " 'title': 'Feast'}\n",
      "{'countries': ['USA'],\n",
      " 'days': 735110,\n",
      " 'plot': 'A chance encounter proves fateful for 2 robots mining on a desolate '\n",
      "         'planet.',\n",
      " 'title': 'Wire Cutters'}\n",
      "{'countries': ['Russia'],\n",
      " 'days': 735110,\n",
      " 'plot': 'Two cosmonauts, two friends, try to do their best in their everyday '\n",
      "         'training life to make their common dream a reality. But this story '\n",
      "         'is not only about the dream.',\n",
      " 'title': \"We Can't Live Without Cosmos\"}\n",
      "{'countries': ['USA'],\n",
      " 'days': 735110,\n",
      " 'plot': 'BAG MAN is the understated story of a 12 year old African American '\n",
      "         'boy, who takes us on an introspective journey out of the city and '\n",
      "         'into the remote countryside of upstate New York. With a ...',\n",
      " 'title': 'Bag Man'}\n",
      "{'countries': ['Ireland'],\n",
      " 'days': 734745,\n",
      " 'plot': 'A lost soul stumbles drunken through the city. In a park, Death '\n",
      "         'finds him and shows him many things.',\n",
      " 'title': 'Coda'}\n",
      "{'days': 734745,\n",
      " 'plot': 'A ferocious, bullying music teacher teaches a dedicated student.',\n",
      " 'title': 'Whiplash'}\n",
      "{'countries': ['USA'],\n",
      " 'days': 734745,\n",
      " 'plot': \"Fool's Day is a dark comedy about a 4th grade class that pull an \"\n",
      "         \"innocent, April Fool's prank on their teacher...that accidentally \"\n",
      "         'kills her. Panicked and convinced they will go to prison, ...',\n",
      " 'title': \"Fool's Day\"}\n",
      "{'countries': ['Australia'],\n",
      " 'days': 734745,\n",
      " 'plot': 'Stranded in the midst of a zombie apocalypse, a man sets in motion '\n",
      "         'an unlikely plan to protect the precious cargo he carries: his '\n",
      "         'infant daughter.',\n",
      " 'title': 'Cargo'}\n",
      "{'countries': ['USA'],\n",
      " 'days': 734745,\n",
      " 'plot': 'A paraplegic man leaves home for the first time only to discover '\n",
      "         'that life on the outside is not like he had imagined it.',\n",
      " 'title': 'Gregory Go Boom'}\n",
      "{'countries': ['UK', 'Poland'],\n",
      " 'days': 734745,\n",
      " 'plot': 'A prisoner discovers a magical box with a baneful secret that he '\n",
      "         'falls foul to.',\n",
      " 'title': 'Room 8'}\n",
      "{'countries': ['USA'],\n",
      " 'days': 734745,\n",
      " 'plot': 'Mickey, Minnie, Horace Horsecollar, and Clarabelle Cow go on a '\n",
      "         'musical wagon ride until Peg-Leg Pete tries to run them off the '\n",
      "         'road.',\n",
      " 'title': 'Get a Horse!'}\n",
      "{'countries': ['Canada'],\n",
      " 'days': 734745,\n",
      " 'plot': \"Noah's relationship takes a rapid turn for the worse.\",\n",
      " 'title': 'Noah'}\n",
      "{'countries': ['Luxembourg', 'France'],\n",
      " 'days': 734745,\n",
      " 'plot': 'Mr Hublot is a withdrawn, idiosyncratic character with OCD, scared '\n",
      "         \"of change and the outside world. Robot Pet's arrival turns his life \"\n",
      "         'upside down: he has to share his home with this very invasive '\n",
      "         'companion.',\n",
      " 'title': 'Mr Hublot'}\n",
      "{'countries': ['USA'], 'days': 734745, 'title': 'Boats'}\n",
      "{'countries': ['Germany'],\n",
      " 'days': 734745,\n",
      " 'plot': \"'WIND' is a short animation about the daily routine life in a windy \"\n",
      "         'country. WIND is an animated short about the daily life of people '\n",
      "         'living in a windy area who seem helplessly exposed to ...',\n",
      " 'title': 'Wind'}\n",
      "{'countries': ['UK'],\n",
      " 'days': 734380,\n",
      " 'plot': 'A tribe of Norse warriors traipse across a barren land after battle. '\n",
      "         'Bloodied and wounded, their chief is near death. He is about to hand '\n",
      "         'over power to his son when an army of a completely different kind '\n",
      "         'descends upon them.',\n",
      " 'title': 'Tumult'}\n",
      "{'countries': ['USA'],\n",
      " 'days': 734380,\n",
      " 'plot': 'At the lowest point of his life, Richie gets a call from his '\n",
      "         'estranged sister, asking him to look after his nine-year old niece, '\n",
      "         'Sophia, for a few hours.',\n",
      " 'title': 'Curfew'}\n",
      "{'countries': ['USA'],\n",
      " 'days': 734380,\n",
      " 'plot': 'Maggie Simpson spends the day in the Ayn Rand School for Tots.',\n",
      " 'title': 'The Longest Daycare'}\n",
      "{'countries': ['Germany'],\n",
      " 'days': 734380,\n",
      " 'plot': 'A prisoner receives the message that his old father needs help with '\n",
      "         'tilling his field. In his unpromising situation the prisoner '\n",
      "         \"suddenly has the idea to use the guards to till his dad's land.\",\n",
      " 'title': 'From Dad to Son'}\n",
      "{'countries': ['Finland'],\n",
      " 'days': 734380,\n",
      " 'plot': 'A chaotic morning in a family with kids, and a mother who is '\n",
      "         \"determined that it's best to take care of everything herself.\",\n",
      " 'title': 'Do I Have to Take Care of Everything?'}\n",
      "{'countries': ['UK'],\n",
      " 'days': 734380,\n",
      " 'plot': 'After many years of marriage, Walter and Madge have grown apart: he '\n",
      "         'lives on the floor and she lives on the ceiling. When Walter tries '\n",
      "         'to reignite their old romance, their equilibrium comes...',\n",
      " 'title': 'Head Over Heels'}\n",
      "{'countries': ['USA'],\n",
      " 'days': 734380,\n",
      " 'plot': 'An old-time American man tries to get the attention of an attractive '\n",
      "         'young lady where he needs to find creative ways to communicate.',\n",
      " 'title': 'Paperman'}\n",
      "{'countries': ['France'],\n",
      " 'days': 734380,\n",
      " 'plot': 'Simon knows ducks quite well. They make noise, fly, swim, some even '\n",
      "         \"roll. Sometimes, it's a bit confusing and Simon gets lost.\",\n",
      " 'title': 'Palmipèdarium'}\n",
      "{'countries': ['South Korea'],\n",
      " 'days': 734380,\n",
      " 'plot': 'Lovers start games.',\n",
      " 'title': 'Love Games'}\n",
      "{'countries': ['Spain'],\n",
      " 'days': 734380,\n",
      " 'plot': 'Jesus is always willing to lend a hand to those in need, but there '\n",
      "         'are others ... that will taste his fist.',\n",
      " 'title': 'Fist of Jesus'}\n",
      "{'countries': ['USA'],\n",
      " 'days': 734015,\n",
      " 'plot': \"On Megamind's first day as a hero, his most evil invention comes to \"\n",
      "         'life and he must put a stop to it.',\n",
      " 'title': 'Megamind: The Button of Doom'}\n",
      "{'countries': ['France'], 'days': 734015, 'title': 'Mourir auprès de toi'}\n",
      "{'countries': ['USA'],\n",
      " 'days': 734015,\n",
      " 'plot': 'A young girl must track a mysterious fox through a foreboding '\n",
      "         'wilderness.',\n",
      " 'title': 'The Girl and the Fox'}\n",
      "{'countries': ['USA', 'France'],\n",
      " 'days': 734015,\n",
      " 'plot': 'A man and a boy, traveling to an unknown destination, find respite '\n",
      "         'in a motel swimming pool. On the surface all seems normal, but '\n",
      "         'nothing is quite what it seems to be.',\n",
      " 'title': 'The Strange Ones'}\n",
      "{'countries': ['USA'],\n",
      " 'days': 734015,\n",
      " 'plot': 'A neurotic inventor creates a time machine and gets lost traveling '\n",
      "         'around yesterday.',\n",
      " 'title': 'Time Freak'}\n",
      "{'countries': ['USA'],\n",
      " 'days': 733650,\n",
      " 'plot': 'A lovestruck, lounge-singing darts champion finds his prayers are '\n",
      "         'answered -- literally -- when he mysteriously receives a box of '\n",
      "         'love-inducing darts.',\n",
      " 'title': 'God of Love'}\n",
      "{'countries': ['Australia', 'UK'],\n",
      " 'days': 733650,\n",
      " 'plot': 'A boy finds a strange creature on a beach, and decides to find a '\n",
      "         'home for it in a world where everyone believes there are far more '\n",
      "         'important things to pay attention to.',\n",
      " 'title': 'The Lost Thing'}\n",
      "{'countries': ['France'],\n",
      " 'days': 733650,\n",
      " 'plot': 'A day in the life of a man suffering from everyday sexism in a world '\n",
      "         'ruled by women.',\n",
      " 'title': 'Majoritè opprimèe'}\n",
      "{'countries': ['Brazil'],\n",
      " 'days': 733650,\n",
      " 'plot': \"The arrival of a new student in school changes Leonardo's life. This \"\n",
      "         '15 year-old blind teenager has to deal with the jealousy of his '\n",
      "         \"friend Giovana while figuring out the new feelings he's having \"\n",
      "         'towards his new friend, Gabriel.',\n",
      " 'title': \"I Don't Want to Go Back Alone\"}\n",
      "{'countries': ['France'],\n",
      " 'days': 733650,\n",
      " 'plot': 'Adrien is a young pianist prodigy. He collapsed psychologically '\n",
      "         'having failed in a renowned competition and henceforth works as a '\n",
      "         'piano tuner. As remedy to this life, he invents a blind ...',\n",
      " 'title': 'The Piano Tuner'}\n",
      "{'countries': ['Spain'],\n",
      " 'days': 733650,\n",
      " 'plot': 'Mr Olivares has already recovered, but now he needs a vacation. To '\n",
      "         'go to some heavenly place where he can relax and blithely enjoy '\n",
      "         'himself.',\n",
      " 'title': 'Brutal Relax'}\n",
      "{'countries': ['Australia', 'France'],\n",
      " 'days': 733285,\n",
      " 'plot': 'A mysterious man with missing memories asks very personal questions '\n",
      "         'to a beautiful woman.',\n",
      " 'title': 'Apricot'}\n",
      "{'countries': ['Portugal'],\n",
      " 'days': 733285,\n",
      " 'plot': 'A night watchman spends time on a basketball court throwing a ball '\n",
      "         'into the basket. He has become an expert. He shows his abilities to '\n",
      "         'a simple janitor, who also like him, is there all night.',\n",
      " 'title': '3x3'}\n",
      "{'countries': ['Finland'],\n",
      " 'days': 733285,\n",
      " 'plot': 'A man lives alone in a block of flats. He may not be able to put a '\n",
      "         'finger on it but he is lonely. All this changes though when the odd '\n",
      "         'growth he has been ignoring on his side turns out to be something '\n",
      "         'alive and becomes conscious.',\n",
      " 'title': 'Benigni'}\n",
      "{'countries': ['Canada'],\n",
      " 'days': 733285,\n",
      " 'plot': 'A train runs into a cow on the tracks; with the captain nowhere to '\n",
      "         'be found, the fireman is forced to desperately improvise in order to '\n",
      "         'keep the train going.',\n",
      " 'title': 'Runaway'}\n",
      "{'countries': ['USA'],\n",
      " 'days': 732920,\n",
      " 'plot': \"The epic story of one man's encounter with what could be the most \"\n",
      "         'relentless murderer of all time.',\n",
      " 'title': 'The Horribly Slow Murderer with the Extremely Inefficient Weapon'}\n",
      "{'countries': ['USA'],\n",
      " 'days': 732920,\n",
      " 'plot': 'An Inuit hunter drives his dog team out on the frozen Arctic Ocean '\n",
      "         'in search of seals, but instead, becomes a witness to murder. In the '\n",
      "         'microscopic communities of Arctic Alaska there is no ...',\n",
      " 'title': 'Sikumi (On the Ice)'}\n",
      "{'countries': ['USA'],\n",
      " 'days': 732920,\n",
      " 'plot': \"A stage magician's rabbit gets into a magical onstage brawl against \"\n",
      "         'his neglectful guardian with two magic hats.',\n",
      " 'title': 'Presto'}\n",
      "{'countries': ['Argentina'],\n",
      " 'days': 732920,\n",
      " 'plot': 'A man prepares and goes to work in a bizarre world, where the '\n",
      "         'meaning of human workforce is taken to another level.',\n",
      " 'title': 'The Employment'}\n",
      "{'countries': ['Netherlands'],\n",
      " 'days': 732920,\n",
      " 'plot': \"'Big' Buck wakes up in his rabbit hole, only to be pestered by three \"\n",
      "         'critters, Gimera, Frank and Rinky. When Gimera kills a butterfly, '\n",
      "         'Buck decides on a payback Predator-style',\n",
      " 'title': 'Big Buck Bunny'}\n",
      "{'countries': ['Norway'],\n",
      " 'days': 732920,\n",
      " 'plot': 'Cairn is a dark film on adolescence in which the main character '\n",
      "         'Johan (11) faces a moral dilemma after having started playing a '\n",
      "         'seemingly innocent prank. The story unfolds on a l level in ...',\n",
      " 'title': 'Cairn'}\n",
      "{'countries': ['Canada'],\n",
      " 'days': 732920,\n",
      " 'plot': 'Christmas trees ripped out of their forest plan revenge against '\n",
      "         'people enjoying the holidays.',\n",
      " 'title': 'Treevenge'}\n",
      "{'countries': ['Japan'],\n",
      " 'days': 732920,\n",
      " 'plot': 'As his town is flooded by water, an old man is forced to add '\n",
      "         'additional levels onto his home with bricks (cubes) in order to stay '\n",
      "         'dry. But when he accidentally drops his favorite smoking ...',\n",
      " 'title': 'The House of Small Cubes'}\n",
      "{'countries': ['Ireland'],\n",
      " 'days': 732920,\n",
      " 'plot': \"It's night; a wide-eyed fearful child is in bed. When her granny \"\n",
      "         \"enters the room, the child pretends to be asleep. Granny O'Grimm \"\n",
      "         \"isn't fooled; she pokes the child with a walker and picks ...\",\n",
      " 'title': \"Granny O'Grimm's Sleeping Beauty\"}\n",
      "{'countries': ['France'],\n",
      " 'days': 732555,\n",
      " 'plot': 'Two Octopi fight for their lives with a stubborn restaurant cook in '\n",
      "         'a comical escape through the streets of a small Greek village.',\n",
      " 'title': 'Oktapodi'}\n",
      "{'countries': ['Germany'],\n",
      " 'days': 732555,\n",
      " 'plot': '1942: what happens when a German kid believes that his Jewish '\n",
      "         'neighbors are going to Toyland? A story about lies and guilt.',\n",
      " 'title': 'Toyland'}\n",
      "{'countries': ['Brazil'],\n",
      " 'days': 732555,\n",
      " 'plot': 'When the plans for the future change, new bonds are created between '\n",
      "         'Danilo, Lucas and Marcos. in between video-games and milk cups, pain '\n",
      "         'and disappointment, they need to learn how to live together.',\n",
      " 'title': 'Cafè com Leite'}\n",
      "{'countries': ['Canada'],\n",
      " 'days': 732555,\n",
      " 'plot': 'In a world of odd people and surreal habits, the Queen weeps and '\n",
      "         \"wails: her daughter Betty won't wake up. With the court looking on, \"\n",
      "         'the King swings into action, jiggling the bed with the ...',\n",
      " 'title': 'Sleeping Betty'}\n",
      "{'countries': ['USA'],\n",
      " 'days': 732555,\n",
      " 'plot': 'Goofy tries to set up his new home theater in time for the big game, '\n",
      "         'with disastrous results.',\n",
      " 'title': 'How to Hook Up Your Home Theater'}\n",
      "{'countries': ['Denmark'],\n",
      " 'days': 732555,\n",
      " 'plot': 'When Dennis, an introvert bodybuilder, invites a local girl out on a '\n",
      "         'date his mother is hurt and disappointed. Despite the pressure she '\n",
      "         'puts on him to cancel the date, Dennis ventures into a night that he '\n",
      "         'will never forget.',\n",
      " 'title': 'Dennis'}\n",
      "{'countries': ['Australia'],\n",
      " 'days': 732555,\n",
      " 'plot': 'Jill is annoyed with Jack, ignoring his attempts to get her to smile '\n",
      "         \"as she drives a city road. She stops for petrol, and while she's \"\n",
      "         \"filling the tank, he goes into the station's mini-mart ...\",\n",
      " 'title': 'Spider'}\n",
      "{'countries': ['USA'],\n",
      " 'days': 732555,\n",
      " 'plot': 'A fable about a parking attendant who gives his customers REAL '\n",
      "         'validation -- dispensing both free parking and free compliments.',\n",
      " 'title': 'Validation'}\n",
      "{'countries': ['UK'],\n",
      " 'days': 732190,\n",
      " 'plot': 'Kate is a talented photojournalist. She risks her life to deliver '\n",
      "         'powerful images to the waiting world until a photograph of a Girl '\n",
      "         'changes her life forever.',\n",
      " 'title': 'One Hundredth of a Second'}\n",
      "{'countries': ['USA'],\n",
      " 'days': 732190,\n",
      " 'plot': 'A series of dark and troubling events forces Bill to reckon with the '\n",
      "         'meaning of his life - or lack thereof.',\n",
      " 'title': 'Everything Will Be Ok'}\n",
      "{'countries': ['USA'],\n",
      " 'days': 732190,\n",
      " 'plot': \"An animated short based on Hans Christian Andersen's tale about a \"\n",
      "         'poor young girl with a burning desire to find comfort and happiness '\n",
      "         'in her life. Desperate to keep warm, the girl lights ...',\n",
      " 'title': 'The Little Matchgirl'}\n",
      "{'countries': ['Canada'],\n",
      " 'days': 732190,\n",
      " 'plot': 'Timothy Higgins, the saddest boy in the world, prepares to hang '\n",
      "         'himself at his ninth birthday party.',\n",
      " 'title': 'The Saddest Boy in the World'}\n",
      "{'countries': ['UK'],\n",
      " 'days': 731825,\n",
      " 'plot': '1985. A secret tree house. Two children dressed in animal costumes '\n",
      "         'experiment to revive a bee. But they are searching for a way to '\n",
      "         'bring back something much bigger.',\n",
      " 'title': 'Hibernation'}\n",
      "{'countries': ['USA'],\n",
      " 'days': 731825,\n",
      " 'plot': 'A mysterious DJ is sent to a city block to mend a series of chain '\n",
      "         'reactions that occur in our everyday lives.',\n",
      " 'title': 'Spin'}\n",
      "{'countries': ['Australia'],\n",
      " 'days': 731825,\n",
      " 'plot': 'A young Church elder struggles with his faith when the married woman '\n",
      "         'he has been seeing breaks off their relationship.',\n",
      " 'title': 'The Saviour'}\n",
      "{'countries': ['UK'],\n",
      " 'days': 731460,\n",
      " 'plot': 'Ben is an art college student in London, whose imagination runs wild '\n",
      "         'as he works the late-night shift at the local supermarket. What do '\n",
      "         'he and his colleagues do to pass the long, endless hours of the '\n",
      "         'night?',\n",
      " 'title': 'Cashback'}\n",
      "{'countries': ['USA'],\n",
      " 'days': 731460,\n",
      " 'plot': 'A cat, Lorenzo, is dismayed to discover that his tail has developed '\n",
      "         'a personality of its own.',\n",
      " 'title': 'Lorenzo'}\n",
      "{'countries': ['Canada', 'Switzerland'],\n",
      " 'days': 731460,\n",
      " 'plot': 'A solitary man without a shadow rises from his desk, dons his hat, '\n",
      "         'and leaves his apartment. He walks through a city to a large door, '\n",
      "         'knocks, shows his invitation, and is admitted to a ...',\n",
      " 'title': 'The Man with No Shadow'}\n",
      "{'countries': ['Poland'],\n",
      " 'days': 731460,\n",
      " 'plot': 'A volunteer soldier plummets to his death. A photograph is taken and '\n",
      "         'sent by courier to a huge man, who adds it to his macabre '\n",
      "         'collection.',\n",
      " 'title': 'Fallen Art'}\n",
      "{'countries': ['Iceland'],\n",
      " 'days': 731460,\n",
      " 'plot': 'An Icelandic short about an old man who might leave his farm keeps a '\n",
      "         'secret.',\n",
      " 'title': 'The Last Farm'}\n",
      "{'countries': ['USA'],\n",
      " 'days': 731095,\n",
      " 'plot': \"On the eve of Halloween, 1938, CBS radio reported UFO's in the skies \"\n",
      "         'over the United States. That same night, two notorious criminals '\n",
      "         'escaped the maximum security prison at Macatawa... They...',\n",
      " 'title': 'Apple Jack'}\n",
      "{'countries': ['Germany'],\n",
      " 'days': 731095,\n",
      " 'plot': 'Apparently, rocks are having conversations all around us, but they '\n",
      "         'talk very, very slowly...',\n",
      " 'title': 'Rocks'}\n",
      "{'countries': ['Canada'],\n",
      " 'days': 730730,\n",
      " 'plot': 'Roger and Doris are a childless couple who get more than they '\n",
      "         'bargained for when a strange child appears at their door one day.',\n",
      " 'title': 'Strange Invaders'}\n",
      "{'countries': ['Japan'],\n",
      " 'days': 730730,\n",
      " 'plot': \"A miserly man eats the pits of some cherries he can't stand throwing \"\n",
      "         'out. A tree starts growing from the top of his head. He cuts it off; '\n",
      "         'it grows back. After a while, he gives up and lets ...',\n",
      " 'title': 'Mount Head'}\n",
      "{'countries': ['USA'],\n",
      " 'days': 730730,\n",
      " 'plot': 'Scrat is putting one last acorn into a huge and very neatly arranged '\n",
      "         'stash, but it keeps popping up. He jumps on it -- once too often, '\n",
      "         'and the whole stockpile falls through a knothole in ...',\n",
      " 'title': 'Gone Nutty'}\n",
      "{'countries': ['USA'],\n",
      " 'days': 730730,\n",
      " 'plot': 'Scrat is putting one last acorn into a huge and very neatly arranged '\n",
      "         'stash, but it keeps popping up. He jumps on it -- once too often, '\n",
      "         'and the whole stockpile falls through a knothole in ...',\n",
      " 'title': 'Gone Nutty'}\n",
      "{'countries': ['Bosnia and Herzegovina'],\n",
      " 'days': 730730,\n",
      " 'plot': 'The film begins in black and white with a tourist following a map '\n",
      "         'and looking around, he then begins to take pictures hoping to '\n",
      "         'develop the photos. The film has no color, and is instead ...',\n",
      " 'title': '10 Minutes'}\n",
      "{'countries': ['USA'],\n",
      " 'days': 730730,\n",
      " 'plot': 'A janitor at an alien night-club gets his wish to be a singer.',\n",
      " 'title': 'The Chubbchubbs!'}\n",
      "{'countries': ['USA'],\n",
      " 'days': 730365,\n",
      " 'plot': 'The Driver now carries an arrogant rock star who is visiting a major '\n",
      "         'city (not Pittsburgh as earlier believed). Played by Madonna, this '\n",
      "         'title character wants to get away from her bodyguards...',\n",
      " 'title': 'Star'}\n",
      "{'countries': ['Sweden'],\n",
      " 'days': 730365,\n",
      " 'plot': 'A gang in a Volvo have staked out a flat; when its occupants leave '\n",
      "         'to walk their dog, the six break into the place. One keeps his eyes '\n",
      "         'on a stopwatch: they have only ten minutes before the ...',\n",
      " 'title': 'Music for One Apartment and Six Drummers'}\n",
      "{'countries': ['Sweden'],\n",
      " 'days': 730365,\n",
      " 'plot': 'A gang in a Volvo have staked out a flat; when its occupants leave '\n",
      "         'to walk their dog, the six break into the place. One keeps his eyes '\n",
      "         'on a stopwatch: they have only ten minutes before the ...',\n",
      " 'title': 'Music for One Apartment and Six Drummers'}\n",
      "{'countries': ['UK'],\n",
      " 'days': 730365,\n",
      " 'plot': 'A teenage girl gets ready to go out to meet her boyfriend, despite '\n",
      "         \"her mother's loud verbal disapproval of her clothes. She goes out to \"\n",
      "         'a deserted area with him and he begins to touch her ...',\n",
      " 'title': 'Dog'}\n",
      "{'countries': ['UK', 'Belgium', 'Netherlands'],\n",
      " 'days': 730000,\n",
      " 'plot': 'A father says goodbye to his young daughter. In time the daughter '\n",
      "         'grows old, but within her there is always a deep longing for her '\n",
      "         'father.',\n",
      " 'title': 'Father and Daughter'}\n",
      "{'countries': ['USA'],\n",
      " 'days': 730000,\n",
      " 'plot': 'A group of snooty birds roosting on a telephone wire get their just '\n",
      "         'desserts when a goofy bird drops in.',\n",
      " 'title': 'For the Birds'}\n",
      "{'countries': ['Germany'],\n",
      " 'days': 730000,\n",
      " 'plot': 'Europe; the plague years. A wigmaker, locked in his shop, observes '\n",
      "         'the events and writes about them in his journal. Mostly, we see '\n",
      "         'shrouded bodies, and a young girl who lives in the tavern ...',\n",
      " 'title': 'The Periwig-Maker'}\n",
      "{'countries': ['Germany'],\n",
      " 'days': 730000,\n",
      " 'plot': 'Short film depicting a fictional educational film about fork lift '\n",
      "         'truck operational safety. The dangers of unsafe operation are '\n",
      "         'presented in gory details.',\n",
      " 'title': 'Forklift Driver Klaus: The First Day on the Job'}\n",
      "{'countries': ['Germany'],\n",
      " 'days': 730000,\n",
      " 'plot': 'Short film depicting a fictional educational film about fork lift '\n",
      "         'truck operational safety. The dangers of unsafe operation are '\n",
      "         'presented in gory details.',\n",
      " 'title': 'Forklift Driver Klaus: The First Day on the Job'}\n",
      "{'countries': ['France'],\n",
      " 'days': 730000,\n",
      " 'plot': 'Gerard is dealing with an unwanted sex change.',\n",
      " 'title': 'Gèraldine'}\n",
      "{'countries': ['France'],\n",
      " 'days': 729635,\n",
      " 'plot': 'A family lives in a house that teeters precariously on the very tip '\n",
      "         'of a mountain. The balance of the house is affected not only by the '\n",
      "         'family that lives inside, but also their cow, dog, ...',\n",
      " 'title': 'Au bout du monde'}\n",
      "{'countries': ['Belgium'],\n",
      " 'days': 728905,\n",
      " 'plot': 'Mylene and Werner are going to make their flat up for Christmas. '\n",
      "         'Then Sam comes with a bottle of Veuve Cliqot. Sam tells Werner that '\n",
      "         'he knows Werner has stolen money at work. Werner murders...',\n",
      " 'title': 'The Bloody Olive'}\n",
      "{'countries': ['Hungary'],\n",
      " 'days': 728540,\n",
      " 'plot': 'During a film course lead by Yvette Biro at the Hungarian Academy of '\n",
      "         'Drama and film in 1995, the director students were shown a '\n",
      "         'black-and-white photo taken by Lucien Herve in 1952, and they...',\n",
      " 'title': 'Szèl'}\n",
      "{'countries': ['Germany'],\n",
      " 'days': 728175,\n",
      " 'plot': 'While his lover is sleeping, a man assembles around her a Rube '\n",
      "         'Goldberg collection of malevolent-looking implements. Then he leaves '\n",
      "         'and lights the fuse . . .',\n",
      " 'title': 'Surprise!'}\n",
      "{'countries': ['USA'],\n",
      " 'days': 728175,\n",
      " 'plot': 'Four caroling children meet Jesus and Santa Claus and learn the true '\n",
      "         'meaning of Christmas.',\n",
      " 'title': 'The Spirit of Christmas'}\n",
      "{'countries': ['Canada', 'UK'],\n",
      " 'days': 727810,\n",
      " 'plot': 'Margaret Fish is planning a surprise party for her dentist husband, '\n",
      "         'Bob. Meanwhile, at the office, Bob his having a mid-life crisis '\n",
      "         \"while insects munch on what's left of his plants. When ...\",\n",
      " 'title': \"Bob's Birthday\"}\n",
      "{'countries': ['Russia'],\n",
      " 'days': 727810,\n",
      " 'plot': 'A young caterpillar yearns to fly like the butterflies and birds, '\n",
      "         'but cannot launch himself high enough to do so - until a couple '\n",
      "         'start playing badminton nearby.',\n",
      " 'title': 'Gagarin'}\n",
      "{'countries': ['Sweden'],\n",
      " 'days': 726715,\n",
      " 'plot': 'A plain, ordinary man tells us about his work as a real-estate '\n",
      "         'broker, his dead father, his ordinary home and so on in a '\n",
      "         'naturalistic voice, lacking any emotions, looking straight into the '\n",
      "         '...',\n",
      " 'title': 'World of Glory'}\n",
      "{'countries': ['Soviet Union'],\n",
      " 'days': 725985,\n",
      " 'plot': 'In the Russian countryside, a family lives next to a railroad track. '\n",
      "         'A boy remembers when he and his parents had a cow, living off its '\n",
      "         'milk and using it as a beast of burden. The cow has a ...',\n",
      " 'title': 'The Cow'}\n",
      "{'countries': ['Czechoslovakia'],\n",
      " 'days': 725985,\n",
      " 'plot': 'A human body gradually reconstructs itself as its various component '\n",
      "         'parts crowd themselves into a small room and eventually, after much '\n",
      "         'experimentation, sort out which part goes where.',\n",
      " 'title': 'Darkness Light Darkness'}\n",
      "{'countries': ['UK'],\n",
      " 'days': 725985,\n",
      " 'plot': 'A humourous and thought provoking view of what animals in zoos might '\n",
      "         'be thinking about their captivity and surroundings.',\n",
      " 'title': 'Creature Comforts'}\n",
      "{'countries': ['France'],\n",
      " 'days': 725985,\n",
      " 'plot': 'A 9 minute comedy starring Dominique Pinon (Delicatessen). Featuring '\n",
      "         'muted colors with a sepia black and white, Pinon takes the viewer '\n",
      "         'through various examples of what he \"likes and ...',\n",
      " 'title': \"Things I Like, Things I Don't Like\"}\n",
      "{'countries': ['Soviet Union'],\n",
      " 'days': 725985,\n",
      " 'plot': 'In the Russian countryside, a family lives next to a railroad track. '\n",
      "         'A boy remembers when he and his parents had a cow, living off its '\n",
      "         'milk and using it as a beast of burden. The cow has a ...',\n",
      " 'title': 'The Cow'}\n",
      "{'countries': ['Germany', 'West Germany'],\n",
      " 'days': 725985,\n",
      " 'plot': 'A group of fishermen on a precariously balanced platform fight over '\n",
      "         'a trunk.',\n",
      " 'title': 'Balance'}\n",
      "{'countries': ['Germany', 'West Germany'],\n",
      " 'days': 725985,\n",
      " 'plot': 'A group of fishermen on a precariously balanced platform fight over '\n",
      "         'a trunk.',\n",
      " 'title': 'Balance'}\n",
      "{'countries': ['Canada'],\n",
      " 'days': 725620,\n",
      " 'plot': \"A pesky yellow cat becomes the bane of Mr. Johnson's life as it \"\n",
      "         'constantly outsmarts his increasingly desperate attempts to get rid '\n",
      "         'of it.',\n",
      " 'title': 'The Cat Came Back'}\n",
      "{'countries': ['China'],\n",
      " 'days': 725620,\n",
      " 'title': 'Feelings of Mountains and Waters'}\n",
      "{'countries': ['Canada'],\n",
      " 'days': 724525,\n",
      " 'plot': 'A couple have a fight over a scrabble game unaware that a full scale '\n",
      "         'nuclear war has started.',\n",
      " 'title': 'The Big Snit'}\n",
      "{'countries': ['Soviet Union'], 'days': 723795, 'title': 'Travels of an Ant'}\n",
      "{'countries': ['Czechoslovakia'],\n",
      " 'days': 723795,\n",
      " 'plot': \"A three-part depiction of various forms of communication. 'Factual \"\n",
      "         \"Discussion' depicts three heads (made up of fruit, kitchen utensils \"\n",
      "         'and writing implements respectively) endlessly ...',\n",
      " 'title': 'Dimensions of Dialogue'}\n",
      "{'countries': ['Soviet Union'], 'days': 723430, 'title': 'Zhil-byl pyos'}\n",
      "{'countries': ['Canada'],\n",
      " 'days': 723065,\n",
      " 'plot': 'The industrialization of Montreal, as seen from the point of view of '\n",
      "         'a rocking-chair.',\n",
      " 'title': 'Crac'}\n",
      "{'countries': ['Hungary'],\n",
      " 'days': 723065,\n",
      " 'plot': \"A fine day in the life of a fly presented completely from the fly's \"\n",
      "         'point of view. A fine day until something dreary happens, that is.',\n",
      " 'title': 'The Fly'}\n",
      "{'countries': ['USA'],\n",
      " 'days': 718320,\n",
      " 'plot': 'In the process of shaving, a young man cuts himself. A lot.',\n",
      " 'title': 'The Big Shave'}\n",
      "{'countries': ['UK'],\n",
      " 'days': 717955,\n",
      " 'title': \"You're Human Like the Rest of Them\"}\n",
      "{'countries': ['USA'],\n",
      " 'days': 717225,\n",
      " 'plot': 'A simple line attempts to woo his true love, a dot, away from the '\n",
      "         \"unkempt squiggle she prefers. But he'll have to learn to bend before \"\n",
      "         \"she'll notice him.\",\n",
      " 'title': 'The Dot and the Line: A Romance in Lower Mathematics'}\n",
      "{'countries': ['USA'],\n",
      " 'days': 716860,\n",
      " 'plot': 'A man is supine on a mountain side. Images rush past of nature and a '\n",
      "         'stained glass saint. An infant is born. We see a lactating nipple. '\n",
      "         'Images include a mountain peak, farm buildings, a ...',\n",
      " 'title': 'Dog Star Man: Part IV'}\n",
      "{'countries': ['USA'],\n",
      " 'days': 714305,\n",
      " 'plot': \"Elmer Fudd is again hunting rabbits - only this time it's an opera. \"\n",
      "         \"Wagner's Siegfried with Elmer as the titular hero and Bugs as \"\n",
      "         'Brunnhilde. They sing, they dance, they eat the scenery.',\n",
      " 'title': \"What's Opera, Doc?\"}\n",
      "{'countries': ['Canada'],\n",
      " 'days': 714305,\n",
      " 'plot': 'An ordinary looking chair refuses to be sat upon.',\n",
      " 'title': 'A Chairy Tale'}\n",
      "{'countries': ['USA'],\n",
      " 'days': 713575,\n",
      " 'plot': 'A man futilely struggles to make his fortune with a frog that sings '\n",
      "         'and dances, but only when it is alone with the owner.',\n",
      " 'title': 'One Froggy Evening'}\n",
      "{'countries': ['USA'],\n",
      " 'days': 712845,\n",
      " 'plot': 'The short-tempered Daffy Duck must improvise madly as the '\n",
      "         'backgrounds, his costumes, the soundtrack, even his physical form, '\n",
      "         'shifts and changes at the whim of the animator.',\n",
      " 'title': 'Duck Amuck'}\n",
      "{'countries': ['Canada'],\n",
      " 'days': 712480,\n",
      " 'plot': \"A surreal story of two neighbours' destructive feud over a flower.\",\n",
      " 'title': 'Neighbours'}\n",
      "{'countries': ['USA'],\n",
      " 'days': 710655,\n",
      " 'plot': \"Jerry is determined to disrupt Tom's concert while Tom fights him \"\n",
      "         'with the piano without missing a single note.',\n",
      " 'title': 'The Cat Concerto'}\n",
      "{'countries': ['USA'],\n",
      " 'days': 706640,\n",
      " 'plot': 'The legendary sailors Popeye and Sindbad do battle to see which one '\n",
      "         'is the greatest.',\n",
      " 'title': 'Popeye the Sailor Meets Sindbad the Sailor'}\n",
      "{'countries': ['USA'],\n",
      " 'days': 706275,\n",
      " 'plot': 'Robin is crooning to a Mae West-like Jenny Wren when he is shot with '\n",
      "         'an arrow. A court is convened; the judge, an owl, keeps singing the '\n",
      "         'title. A variety of birds are brought to the witness...',\n",
      " 'title': 'Who Killed Cock Robin?'}\n",
      "{'countries': ['USA'],\n",
      " 'days': 706275,\n",
      " 'plot': 'Mickey and his band are determined to perform their music despite '\n",
      "         'the interferance of Donald Duck and a powerful storm.',\n",
      " 'title': 'The Band Concert'}\n",
      "{'countries': ['USA'],\n",
      " 'days': 704085,\n",
      " 'plot': 'George and Gracie enter an elegant drawing room, looking everywhere '\n",
      "         \"for something. Turns out, they're looking for the audience, and when \"\n",
      "         'George spots the camera, they start in on their ...',\n",
      " 'title': 'Lambchops'}\n",
      "{'countries': ['USA'],\n",
      " 'days': 703720,\n",
      " 'plot': 'Mickey Mouse, piloting a steamboat, delights his passenger, Minnie, '\n",
      "         'by making musical instruments out of the menagerie on deck.',\n",
      " 'title': 'Steamboat Willie'}\n",
      "{'countries': ['USA'],\n",
      " 'days': 703720,\n",
      " 'plot': 'This short experimental film tells the story of a man who comes to '\n",
      "         'Hollywood to become a star, only to fail and be dehumanized (he is '\n",
      "         'identified by the number 9314 written on his forehead),...',\n",
      " 'title': 'The Life and Death of 9413, a Hollywood Extra'}\n",
      "{'countries': ['USA'],\n",
      " 'days': 698610,\n",
      " 'plot': 'The cartoonist, Winsor McCay, brings the Dinosaurus back to life in '\n",
      "         'the figure of his latest creation, Gertie the Dinosaur.',\n",
      " 'title': 'Gertie the Dinosaur'}\n",
      "{'countries': ['USA'],\n",
      " 'days': 697515,\n",
      " 'plot': 'Cartoon figures announce, via comic strip balloons, that they will '\n",
      "         'move - and move they do, in a wildly exaggerated style.',\n",
      " 'title': 'Winsor McCay, the Famous Cartoonist of the N.Y. Herald and His '\n",
      "          'Moving Comics'}\n",
      "{'countries': ['USA'],\n",
      " 'days': 697515,\n",
      " 'plot': 'Cartoon figures announce, via comic strip balloons, that they will '\n",
      "         'move - and move they do, in a wildly exaggerated style.',\n",
      " 'title': 'Winsor McCay, the Famous Cartoonist of the N.Y. Herald and His '\n",
      "          'Moving Comics'}\n",
      "{'countries': ['USA'],\n",
      " 'days': 696785,\n",
      " 'plot': 'A greedy tycoon decides, on a whim, to corner the world market in '\n",
      "         \"wheat. This doubles the price of bread, forcing the grain's \"\n",
      "         'producers into charity lines and further into poverty. The film...',\n",
      " 'title': 'A Corner in Wheat'}\n"
     ]
    }
   ],
   "source": [
    "for doc in results:\n",
    "    pprint.pprint(doc)"
   ]
  }
 ],
 "metadata": {
  "kernelspec": {
   "display_name": "mongodb",
   "language": "python",
   "name": "python3"
  },
  "language_info": {
   "codemirror_mode": {
    "name": "ipython",
    "version": 3
   },
   "file_extension": ".py",
   "mimetype": "text/x-python",
   "name": "python",
   "nbconvert_exporter": "python",
   "pygments_lexer": "ipython3",
   "version": "3.13.2"
  }
 },
 "nbformat": 4,
 "nbformat_minor": 2
}
